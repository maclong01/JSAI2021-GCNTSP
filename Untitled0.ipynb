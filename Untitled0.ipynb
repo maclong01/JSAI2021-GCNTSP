{
 "cells": [
  {
   "cell_type": "code",
   "execution_count": 21,
   "metadata": {
    "id": "jW3eF6h8mpF4"
   },
   "outputs": [],
   "source": [
    "#!git clone https://github.com/lightaime/deep_gcns_torch.git\n"
   ]
  },
  {
   "cell_type": "code",
   "execution_count": 22,
   "metadata": {
    "id": "hs7f2oRXmpC2"
   },
   "outputs": [],
   "source": [
    "#!pip install dgl  \n",
    "#!pip install -U ogb"
   ]
  },
  {
   "cell_type": "code",
   "execution_count": 23,
   "metadata": {
    "colab": {
     "base_uri": "https://localhost:8080/",
     "height": 103
    },
    "executionInfo": {
     "elapsed": 9,
     "status": "ok",
     "timestamp": 1653983363540,
     "user": {
      "displayName": "mạc long",
      "userId": "13550170865954421690"
     },
     "user_tz": -540
    },
    "id": "c0nAh0eInGQU",
    "outputId": "86953740-0abc-4100-a53e-6df56676a24f"
   },
   "outputs": [
    {
     "data": {
      "text/plain": [
       "'\\nimport os\\nimport json\\nimport argparse\\nimport time\\n\\nimport numpy as np\\n\\nimport torch\\nfrom torch.autograd import Variable\\nimport torch.nn.functional as F\\nimport torch.nn as nn\\n\\nimport matplotlib\\nimport matplotlib.pyplot as plt\\n\\nimport networkx as nx\\nfrom sklearn.utils.class_weight import compute_class_weight\\n\\nfrom fastprogress import master_bar, progress_bar\\n\\n# Remove warning\\nimport warnings\\nwarnings.filterwarnings(\"ignore\", category=UserWarning)\\nfrom scipy.sparse import SparseEfficiencyWarning\\nwarnings.simplefilter(\\'ignore\\', SparseEfficiencyWarning)\\n'"
      ]
     },
     "execution_count": 23,
     "metadata": {},
     "output_type": "execute_result"
    }
   ],
   "source": [
    "'''\n",
    "import os\n",
    "import json\n",
    "import argparse\n",
    "import time\n",
    "\n",
    "import numpy as np\n",
    "\n",
    "import torch\n",
    "from torch.autograd import Variable\n",
    "import torch.nn.functional as F\n",
    "import torch.nn as nn\n",
    "\n",
    "import matplotlib\n",
    "import matplotlib.pyplot as plt\n",
    "\n",
    "import networkx as nx\n",
    "from sklearn.utils.class_weight import compute_class_weight\n",
    "\n",
    "from fastprogress import master_bar, progress_bar\n",
    "\n",
    "# Remove warning\n",
    "import warnings\n",
    "warnings.filterwarnings(\"ignore\", category=UserWarning)\n",
    "from scipy.sparse import SparseEfficiencyWarning\n",
    "warnings.simplefilter('ignore', SparseEfficiencyWarning)\n",
    "'''"
   ]
  },
  {
   "cell_type": "code",
   "execution_count": 24,
   "metadata": {
    "id": "k6HkVTyppxXB"
   },
   "outputs": [],
   "source": [
    "#!pip uninstall dgl\n",
    "#!pip install dgl-cu90"
   ]
  },
  {
   "cell_type": "code",
   "execution_count": 25,
   "metadata": {
    "id": "OnGyKFQMnH1m"
   },
   "outputs": [],
   "source": [
    "#import sys\n",
    "#sys.path.append('/content/deep_gcns_torch/examples/ogb_eff/ogbn_arxiv_dgl')\n",
    "#os.chdir('/content/deep_gcns_torch/examples/ogb_eff/ogbn_arxiv_dgl')"
   ]
  },
  {
   "cell_type": "code",
   "execution_count": 26,
   "metadata": {
    "id": "1zNv5Tf3peZZ"
   },
   "outputs": [],
   "source": [
    "#!python3 -c 'import dgl; print(dgl.__path__)'"
   ]
  },
  {
   "cell_type": "code",
   "execution_count": 27,
   "metadata": {
    "id": "wSxhQC4HrX6K"
   },
   "outputs": [],
   "source": [
    "#!nvidia-smi"
   ]
  },
  {
   "cell_type": "code",
   "execution_count": 28,
   "metadata": {
    "id": "81H8WUnWrhcD"
   },
   "outputs": [],
   "source": [
    "#!pip uninstall dgl\n",
    "#!pip install dgl-cu110"
   ]
  },
  {
   "cell_type": "code",
   "execution_count": null,
   "metadata": {
    "id": "Hg7JaqHcYFR9"
   },
   "outputs": [],
   "source": []
  },
  {
   "cell_type": "code",
   "execution_count": null,
   "metadata": {
    "id": "5xtjaVMVYFMV"
   },
   "outputs": [],
   "source": []
  },
  {
   "cell_type": "code",
   "execution_count": null,
   "metadata": {
    "id": "2SgwL_fEYFJo"
   },
   "outputs": [],
   "source": []
  },
  {
   "cell_type": "code",
   "execution_count": null,
   "metadata": {
    "id": "gYt883csYFG1"
   },
   "outputs": [],
   "source": []
  },
  {
   "cell_type": "code",
   "execution_count": null,
   "metadata": {
    "id": "Km042K9oYFEJ"
   },
   "outputs": [],
   "source": []
  },
  {
   "cell_type": "code",
   "execution_count": null,
   "metadata": {
    "id": "clmCQpx1YFBd"
   },
   "outputs": [],
   "source": []
  },
  {
   "cell_type": "code",
   "execution_count": null,
   "metadata": {
    "id": "j-GlnVtUYE9x"
   },
   "outputs": [],
   "source": []
  },
  {
   "cell_type": "code",
   "execution_count": null,
   "metadata": {
    "id": "E9OeXpreBYqP"
   },
   "outputs": [],
   "source": []
  },
  {
   "cell_type": "code",
   "execution_count": null,
   "metadata": {
    "id": "dHbzFiZGBYcC"
   },
   "outputs": [],
   "source": []
  },
  {
   "cell_type": "code",
   "execution_count": 29,
   "metadata": {
    "colab": {
     "base_uri": "https://localhost:8080/"
    },
    "executionInfo": {
     "elapsed": 23187,
     "status": "ok",
     "timestamp": 1654090019477,
     "user": {
      "displayName": "mạc long",
      "userId": "13550170865954421690"
     },
     "user_tz": -540
    },
    "id": "4kpNPwVfticZ",
    "outputId": "8300d953-2f01-41c3-ef10-b2284b989bcd"
   },
   "outputs": [
    {
     "ename": "ModuleNotFoundError",
     "evalue": "No module named 'google.colab'",
     "output_type": "error",
     "traceback": [
      "\u001b[0;31m---------------------------------------------------------------------------\u001b[0m",
      "\u001b[0;31mModuleNotFoundError\u001b[0m                       Traceback (most recent call last)",
      "Input \u001b[0;32mIn [29]\u001b[0m, in \u001b[0;36m<cell line: 1>\u001b[0;34m()\u001b[0m\n\u001b[0;32m----> 1\u001b[0m \u001b[38;5;28;01mfrom\u001b[39;00m \u001b[38;5;21;01mgoogle\u001b[39;00m\u001b[38;5;21;01m.\u001b[39;00m\u001b[38;5;21;01mcolab\u001b[39;00m \u001b[38;5;28;01mimport\u001b[39;00m drive\n\u001b[1;32m      2\u001b[0m drive\u001b[38;5;241m.\u001b[39mmount(\u001b[38;5;124m'\u001b[39m\u001b[38;5;124m/content/drive\u001b[39m\u001b[38;5;124m'\u001b[39m)\n",
      "\u001b[0;31mModuleNotFoundError\u001b[0m: No module named 'google.colab'"
     ]
    }
   ],
   "source": [
    "from google.colab import drive\n",
    "drive.mount('/content/drive')"
   ]
  },
  {
   "cell_type": "code",
   "execution_count": null,
   "metadata": {
    "colab": {
     "base_uri": "https://localhost:8080/"
    },
    "executionInfo": {
     "elapsed": 2799,
     "status": "ok",
     "timestamp": 1654090022274,
     "user": {
      "displayName": "mạc long",
      "userId": "13550170865954421690"
     },
     "user_tz": -540
    },
    "id": "JCLpPjvvyDay",
    "outputId": "30894e00-c2ed-47c7-bd82-6b63963e8767"
   },
   "outputs": [],
   "source": [
    "!pip install geopy"
   ]
  },
  {
   "cell_type": "code",
   "execution_count": null,
   "metadata": {
    "colab": {
     "base_uri": "https://localhost:8080/"
    },
    "id": "i4NUaipztukv",
    "outputId": "2c094efe-69ac-40f8-9b3e-2a018d4c0a08"
   },
   "outputs": [],
   "source": [
    "!pip install numpy scipy cython tqdm scikit-learn matplotlib seaborn tensorboard pandas\n",
    "!pip3 install tensorboard_logger"
   ]
  },
  {
   "cell_type": "code",
   "execution_count": null,
   "metadata": {
    "id": "jQCkdnLmBIEg"
   },
   "outputs": [],
   "source": [
    "#!pip install torch==1.6.0+cu101 torchvision==0.7.0+cu101 -f https://download.pytorch.org/whl/torch_stable.html"
   ]
  },
  {
   "cell_type": "code",
   "execution_count": 30,
   "metadata": {
    "id": "CNSdoLwcC9IH"
   },
   "outputs": [
    {
     "name": "stdout",
     "output_type": "stream",
     "text": [
      "Requirement already satisfied: dgl in /home/maclong/anaconda3/envs/dpdp2/lib/python3.9/site-packages (0.6.1)\n",
      "Requirement already satisfied: networkx>=2.1 in /home/maclong/anaconda3/envs/dpdp2/lib/python3.9/site-packages (from dgl) (2.8)\n",
      "Requirement already satisfied: numpy>=1.14.0 in /home/maclong/anaconda3/envs/dpdp2/lib/python3.9/site-packages (from dgl) (1.22.3)\n",
      "Requirement already satisfied: scipy>=1.1.0 in /home/maclong/anaconda3/envs/dpdp2/lib/python3.9/site-packages (from dgl) (1.8.0)\n",
      "Requirement already satisfied: requests>=2.19.0 in /home/maclong/anaconda3/envs/dpdp2/lib/python3.9/site-packages (from dgl) (2.27.1)\n",
      "Requirement already satisfied: urllib3<1.27,>=1.21.1 in /home/maclong/anaconda3/envs/dpdp2/lib/python3.9/site-packages (from requests>=2.19.0->dgl) (1.26.9)\n",
      "Requirement already satisfied: certifi>=2017.4.17 in /home/maclong/anaconda3/envs/dpdp2/lib/python3.9/site-packages (from requests>=2.19.0->dgl) (2021.10.8)\n",
      "Requirement already satisfied: idna<4,>=2.5 in /home/maclong/anaconda3/envs/dpdp2/lib/python3.9/site-packages (from requests>=2.19.0->dgl) (3.3)\n",
      "Requirement already satisfied: charset-normalizer~=2.0.0 in /home/maclong/anaconda3/envs/dpdp2/lib/python3.9/site-packages (from requests>=2.19.0->dgl) (2.0.12)\n"
     ]
    }
   ],
   "source": [
    "!pip install dgl  "
   ]
  },
  {
   "cell_type": "code",
   "execution_count": 31,
   "metadata": {
    "colab": {
     "background_save": true
    },
    "id": "zziQCpa1ZTSm"
   },
   "outputs": [
    {
     "name": "stdout",
     "output_type": "stream",
     "text": [
      "Requirement already satisfied: ogb in /home/maclong/anaconda3/envs/dpdp2/lib/python3.9/site-packages (1.3.3)\n",
      "Requirement already satisfied: urllib3>=1.24.0 in /home/maclong/anaconda3/envs/dpdp2/lib/python3.9/site-packages (from ogb) (1.26.9)\n",
      "Requirement already satisfied: scikit-learn>=0.20.0 in /home/maclong/anaconda3/envs/dpdp2/lib/python3.9/site-packages (from ogb) (1.0.2)\n",
      "Requirement already satisfied: pandas>=0.24.0 in /home/maclong/anaconda3/envs/dpdp2/lib/python3.9/site-packages (from ogb) (1.4.2)\n",
      "Requirement already satisfied: outdated>=0.2.0 in /home/maclong/anaconda3/envs/dpdp2/lib/python3.9/site-packages (from ogb) (0.2.1)\n",
      "Requirement already satisfied: six>=1.12.0 in /home/maclong/anaconda3/envs/dpdp2/lib/python3.9/site-packages (from ogb) (1.16.0)\n",
      "Requirement already satisfied: tqdm>=4.29.0 in /home/maclong/anaconda3/envs/dpdp2/lib/python3.9/site-packages (from ogb) (4.64.0)\n",
      "Requirement already satisfied: torch>=1.6.0 in /home/maclong/anaconda3/envs/dpdp2/lib/python3.9/site-packages (from ogb) (1.11.0+cu115)\n",
      "Requirement already satisfied: numpy>=1.16.0 in /home/maclong/anaconda3/envs/dpdp2/lib/python3.9/site-packages (from ogb) (1.22.3)\n",
      "Requirement already satisfied: requests in /home/maclong/anaconda3/envs/dpdp2/lib/python3.9/site-packages (from outdated>=0.2.0->ogb) (2.27.1)\n",
      "Requirement already satisfied: littleutils in /home/maclong/anaconda3/envs/dpdp2/lib/python3.9/site-packages (from outdated>=0.2.0->ogb) (0.2.2)\n",
      "Requirement already satisfied: pytz>=2020.1 in /home/maclong/anaconda3/envs/dpdp2/lib/python3.9/site-packages (from pandas>=0.24.0->ogb) (2022.1)\n",
      "Requirement already satisfied: python-dateutil>=2.8.1 in /home/maclong/anaconda3/envs/dpdp2/lib/python3.9/site-packages (from pandas>=0.24.0->ogb) (2.8.2)\n",
      "Requirement already satisfied: joblib>=0.11 in /home/maclong/anaconda3/envs/dpdp2/lib/python3.9/site-packages (from scikit-learn>=0.20.0->ogb) (1.1.0)\n",
      "Requirement already satisfied: scipy>=1.1.0 in /home/maclong/anaconda3/envs/dpdp2/lib/python3.9/site-packages (from scikit-learn>=0.20.0->ogb) (1.8.0)\n",
      "Requirement already satisfied: threadpoolctl>=2.0.0 in /home/maclong/anaconda3/envs/dpdp2/lib/python3.9/site-packages (from scikit-learn>=0.20.0->ogb) (3.1.0)\n",
      "Requirement already satisfied: typing-extensions in /home/maclong/anaconda3/envs/dpdp2/lib/python3.9/site-packages (from torch>=1.6.0->ogb) (4.1.1)\n",
      "Requirement already satisfied: idna<4,>=2.5 in /home/maclong/anaconda3/envs/dpdp2/lib/python3.9/site-packages (from requests->outdated>=0.2.0->ogb) (3.3)\n",
      "Requirement already satisfied: certifi>=2017.4.17 in /home/maclong/anaconda3/envs/dpdp2/lib/python3.9/site-packages (from requests->outdated>=0.2.0->ogb) (2021.10.8)\n",
      "Requirement already satisfied: charset-normalizer~=2.0.0 in /home/maclong/anaconda3/envs/dpdp2/lib/python3.9/site-packages (from requests->outdated>=0.2.0->ogb) (2.0.12)\n"
     ]
    }
   ],
   "source": [
    "!pip install -U ogb"
   ]
  },
  {
   "cell_type": "code",
   "execution_count": 32,
   "metadata": {
    "colab": {
     "background_save": true
    },
    "id": "iQm3gOz8xl8H"
   },
   "outputs": [],
   "source": [
    "import os\n",
    "import json\n",
    "import argparse\n",
    "import time\n",
    "\n",
    "import numpy as np\n",
    "\n",
    "import torch\n",
    "from torch.autograd import Variable\n",
    "import torch.nn.functional as F\n",
    "import torch.nn as nn\n",
    "\n",
    "import matplotlib\n",
    "import matplotlib.pyplot as plt\n",
    "\n",
    "import networkx as nx\n",
    "from sklearn.utils.class_weight import compute_class_weight\n",
    "\n",
    "from fastprogress import master_bar, progress_bar\n",
    "\n",
    "# Remove warning\n",
    "import warnings\n",
    "warnings.filterwarnings(\"ignore\", category=UserWarning)\n",
    "from scipy.sparse import SparseEfficiencyWarning\n",
    "warnings.simplefilter('ignore', SparseEfficiencyWarning)"
   ]
  },
  {
   "cell_type": "code",
   "execution_count": 33,
   "metadata": {
    "colab": {
     "background_save": true
    },
    "id": "8yy6o3FTcwi8"
   },
   "outputs": [],
   "source": [
    "#!git clone https://github.com/chaitjo/learning-tsp.git"
   ]
  },
  {
   "cell_type": "code",
   "execution_count": 34,
   "metadata": {
    "colab": {
     "background_save": true
    },
    "id": "qInY79QFc6e8"
   },
   "outputs": [],
   "source": [
    "# Download datasets and unpack to the /data/tsp directory.\n",
    "#!pip install gdown\n",
    "#!gdown https://drive.google.com/uc?id=152mpCze-v4d0m9kdsCeVkLdHFkjeDeF5\n"
   ]
  },
  {
   "cell_type": "code",
   "execution_count": 35,
   "metadata": {
    "colab": {
     "background_save": true
    },
    "id": "KZLkt_ktfYzL"
   },
   "outputs": [],
   "source": [
    "#!tar -xvzf tsp-data.tar.gz ./data/tsp/"
   ]
  },
  {
   "cell_type": "code",
   "execution_count": 36,
   "metadata": {
    "colab": {
     "background_save": true
    },
    "id": "ttbc9q5jx4kw"
   },
   "outputs": [],
   "source": [
    "import sys\n",
    "sys.path.append('/home/maclong/デスクトップ/learning-tsp/')\n",
    "os.chdir('/home/maclong/デスクトップ/learning-tsp/')"
   ]
  },
  {
   "cell_type": "code",
   "execution_count": 37,
   "metadata": {
    "colab": {
     "background_save": true
    },
    "id": "aVsguLr047Mi"
   },
   "outputs": [
    {
     "name": "stdout",
     "output_type": "stream",
     "text": [
      "LICENSE           \u001b[0m\u001b[01;34mimg\u001b[0m/                    \u001b[01;34mresults\u001b[0m/\r\n",
      "README.md         \u001b[01;34mlogs\u001b[0m/                   run.py\r\n",
      "Untitled0.ipynb   \u001b[01;34mnets\u001b[0m/                   \u001b[01;34mscripts\u001b[0m/\r\n",
      "\u001b[01;34m__pycache__\u001b[0m/      options.py              train.py\r\n",
      "\u001b[01;34mdata\u001b[0m/             \u001b[01;34moutputs\u001b[0m/                \u001b[01;34mutils\u001b[0m/\r\n",
      "eval.py           \u001b[01;34mpretrained\u001b[0m/             vizualizations_heatmaps.ipynb\r\n",
      "eval_baseline.py  \u001b[01;34mproblems\u001b[0m/               vizualizations_tensorboard.ipynb\r\n",
      "finetune.py       reinforce_baselines.py\r\n"
     ]
    }
   ],
   "source": [
    "ls"
   ]
  },
  {
   "cell_type": "code",
   "execution_count": 38,
   "metadata": {
    "colab": {
     "background_save": true
    },
    "id": "bLpjaIAkt7JY"
   },
   "outputs": [
    {
     "name": "stdout",
     "output_type": "stream",
     "text": [
      "CUDA available\n"
     ]
    }
   ],
   "source": [
    "if torch.cuda.is_available():\n",
    "    print(\"CUDA available\")\n",
    "    torch.cuda.BoolTensor\n",
    "    torch.cuda.manual_seed(1)\n",
    "\n",
    "else:\n",
    "    print(\"CUDA not available\")\n",
    "    torch.BoolTensor\n",
    "    torch.manual_seed(1)"
   ]
  },
  {
   "cell_type": "code",
   "execution_count": 39,
   "metadata": {
    "colab": {
     "background_save": true
    },
    "id": "50JxpPovBBXd"
   },
   "outputs": [],
   "source": [
    "#N_EPOCHS=100\n",
    "N_EPOCHS= 300\n",
    "\n",
    "\n",
    "#EPOCH_SIZE=128000\n",
    "EPOCH_SIZE=128000\n",
    "\n",
    "BATCH_SIZE=128\n",
    "\n",
    "ACCUMULATION_STEPS=1\n",
    "\n",
    "#VAL_SIZE=1280\n",
    "VAL_SIZE=1280\n",
    "#ROLLOUT_SIZE=1280\n",
    "ROLLOUT_SIZE=1280\n",
    "\n",
    "MODEL=\"attention\"\n",
    "ENCODER=\"gat\"\n",
    "AGGREGATION=\"max\"\n",
    "AGGREGATION_GRAPH=\"mean\"\n",
    "NORMALIZATION=\"batch\"\n",
    "\n",
    "EMBEDDING_DIM=128\n",
    "N_ENCODE_LAYERS=3\n",
    "\n",
    "\n",
    "BASELINE=\"rollout\"\n",
    "\n",
    "LR_MODEL=1e-4\n",
    "MAX_NORM=1\n",
    "CHECKPOINT_EPOCHS=0\n",
    "\n",
    "#RUN_NAME=\"GNN-test\"\n",
    "RUN_NAME=\"Application11-seino-EPSandJKN-epcho1000-12800\"\n",
    "#RUN_NAME=\"ORI-GAT-3layer-300epcho-EPOCH_SIZE-128000\"\n",
    "\n",
    "PROBLEM=\"tsp\"\n",
    "\n",
    "DEVICES=\"0\"\n",
    "NUM_WORKERS=0\n",
    "\n",
    "MIN_SIZE=20\n",
    "MAX_SIZE=50\n",
    "NEIGHBORS=0.2\n",
    "\n",
    "KNN_STRAT=\"percentage\"\n",
    "\n",
    "DISTRIBUTION=\"random\"\n",
    "\n",
    "#TRAIN_DATASET1=\"/content/drive/MyDrive/learning-tsp/data/tsp/tsp100_train_concorde.txt\"\n",
    "TRAIN_DATASET1=\"/home/maclong/デスクトップ/learning-tsp/data/tsp/tsp20-50_train_concorde.txt\"\n",
    "\n",
    "\n",
    "VAL_DATASET1=\"/home/maclong/デスクトップ/learning-tsp/data/tsp/tsp20_test_concorde.txt\"\n",
    "VAL_DATASET2=\"/home/maclong/デスクトップ/learning-tsp/data/tsp/tsp50_test_concorde.txt\"\n",
    "\n",
    "\n",
    "\n"
   ]
  },
  {
   "cell_type": "code",
   "execution_count": 40,
   "metadata": {
    "id": "RX6BMR-XBFEI"
   },
   "outputs": [
    {
     "name": "stdout",
     "output_type": "stream",
     "text": [
      "Traceback (most recent call last):\r\n",
      "  File \"/home/maclong/デスクトップ/learning-tsp/run.py\", line 15, in <module>\r\n",
      "    from nets.attention_model import AttentionModel\r\n",
      "  File \"/home/maclong/デスクトップ/learning-tsp/nets/attention_model.py\", line 12, in <module>\r\n",
      "    from utils.beam_search import CachedLookup\r\n",
      "  File \"/home/maclong/デスクトップ/learning-tsp/utils/beam_search.py\", line 54, in <module>\r\n",
      "    class BatchBeam(NamedTuple):\r\n",
      "RuntimeError: __class__ not set defining 'BatchBeam' as <class 'utils.beam_search.BatchBeam'>. Was __classcell__ propagated to type.__new__?\r\n"
     ]
    }
   ],
   "source": [
    "!python3 run.py --problem \"$PROBLEM\" \\\n",
    "    --model \"$MODEL\" \\\n",
    "    --baseline \"$BASELINE\" \\\n",
    "    --min_size \"$MIN_SIZE\" --max_size \"$MAX_SIZE\" \\\n",
    "    --neighbors \"$NEIGHBORS\" --knn_strat \"$KNN_STRAT\" \\\n",
    "    --train_dataset  \"$TRAIN_DATASET1\" \\\n",
    "    --data_distribution \"$DISTRIBUTION\" \\\n",
    "    --val_datasets \"$VAL_DATASET1\" \"$VAL_DATASET2\" \\\n",
    "    --epoch_size \"$EPOCH_SIZE\" \\\n",
    "    --batch_size \"$BATCH_SIZE\" --accumulation_steps \"$ACCUMULATION_STEPS\" \\\n",
    "    --n_epochs \"$N_EPOCHS\" \\\n",
    "    --val_size \"$VAL_SIZE\" --rollout_size \"$ROLLOUT_SIZE\" \\\n",
    "    --encoder \"$ENCODER\" --aggregation \"$AGGREGATION\" --aggregation_graph \"$AGGREGATION_GRAPH\" \\\n",
    "    --n_encode_layers \"$N_ENCODE_LAYERS\" --gated \\\n",
    "    --normalization \"$NORMALIZATION\" --learn_norm \\\n",
    "    --embedding_dim \"$EMBEDDING_DIM\" --hidden_dim \"$EMBEDDING_DIM\" \\\n",
    "    --lr_model \"$LR_MODEL\" --max_grad_norm \"$MAX_NORM\" \\\n",
    "    --num_workers \"$NUM_WORKERS\" \\\n",
    "    --checkpoint_epochs \"$CHECKPOINT_EPOCHS\" \\\n",
    "    --run_name \"$RUN_NAME\""
   ]
  },
  {
   "cell_type": "code",
   "execution_count": null,
   "metadata": {
    "id": "yiVbGf-xNEOG"
   },
   "outputs": [],
   "source": []
  },
  {
   "cell_type": "markdown",
   "metadata": {
    "id": "BilOHmhQriA6"
   },
   "source": [
    "TSP10-200 提案手法 JKN +EPS"
   ]
  },
  {
   "cell_type": "code",
   "execution_count": null,
   "metadata": {
    "id": "GkV0_ZZy3r7W"
   },
   "outputs": [],
   "source": [
    "!python3 eval.py /content/drive/MyDrive/learning-tsp/data/tsp/tsp10-200_concorde.txt --model \"/content/drive/MyDrive/learning-tsp/outputs/tsp_20-50/EPS-JKNv3-3layer-EMBEDDING_DIM-256-300epcho-EPOCH_SIZE-12800_20220210T105415\" --decode_strategies greedy --batch_size 16 --width 0"
   ]
  },
  {
   "cell_type": "markdown",
   "metadata": {
    "id": "eInxFivNMAON"
   },
   "source": [
    "TSP10-200 提案手法 JKN Only"
   ]
  },
  {
   "cell_type": "code",
   "execution_count": null,
   "metadata": {
    "id": "GuFqfATgL9hT"
   },
   "outputs": [],
   "source": [
    "!python3 eval.py /content/drive/MyDrive/learning-tsp/data/tsp/tsp10-200_concorde.txt --model \"/content/drive/MyDrive/learning-tsp/outputs/tsp_20-50/JKN-Onlyv10_20220208T205716\" --decode_strategies greedy --batch_size 16 --width 0"
   ]
  },
  {
   "cell_type": "markdown",
   "metadata": {
    "id": "6k8QzOr23Q3T"
   },
   "source": [
    "TSP10-200 提案手法 EPS Only"
   ]
  },
  {
   "cell_type": "code",
   "execution_count": null,
   "metadata": {
    "id": "aErP8C6kVECl"
   },
   "outputs": [],
   "source": [
    "!python3 eval.py /content/drive/MyDrive/learning-tsp/data/tsp/tsp10-200_concorde.txt --model \"/content/drive/MyDrive/learning-tsp/outputs/tsp_20-50/EPS-JKNv6-SElayer-3layer-EMBEDDING_DIM-128-300epcho-EPOCH_SIZE-128000_20220216T015852\" --decode_strategies greedy --batch_size 16 --width 0"
   ]
  },
  {
   "cell_type": "markdown",
   "metadata": {
    "id": "8QxPziw8ScFC"
   },
   "source": [
    "従来手法 OnLy"
   ]
  },
  {
   "cell_type": "code",
   "execution_count": null,
   "metadata": {
    "id": "ongqtI9bPptB"
   },
   "outputs": [],
   "source": [
    "!python3 eval.py /content/drive/MyDrive/learning-tsp/data/tsp/tsp10-200_concorde.txt --model \"/content/drive/MyDrive/learning-tsp/outputs/tsp_20-50/Onlyv10_20220208T212232\" --decode_strategies greedy --batch_size 16 --width 0"
   ]
  },
  {
   "cell_type": "code",
   "execution_count": null,
   "metadata": {
    "id": "KqgRPFOjsyAj"
   },
   "outputs": [],
   "source": []
  },
  {
   "cell_type": "code",
   "execution_count": null,
   "metadata": {
    "id": "sgjCtlnrPwvI"
   },
   "outputs": [],
   "source": []
  },
  {
   "cell_type": "code",
   "execution_count": null,
   "metadata": {
    "id": "_EqWgSuHHhUB"
   },
   "outputs": [],
   "source": []
  },
  {
   "cell_type": "code",
   "execution_count": null,
   "metadata": {
    "id": "01jwtq-THhKh"
   },
   "outputs": [],
   "source": []
  },
  {
   "cell_type": "code",
   "execution_count": null,
   "metadata": {
    "id": "4PX-L3oTZJi_"
   },
   "outputs": [],
   "source": []
  },
  {
   "cell_type": "markdown",
   "metadata": {
    "id": "SRhuX-ls82lW"
   },
   "source": [
    "従来手法　TSP20-50"
   ]
  },
  {
   "cell_type": "code",
   "execution_count": null,
   "metadata": {
    "id": "vLV_yVzZ9BKe"
   },
   "outputs": [],
   "source": [
    "!python3 eval.py /content/drive/MyDrive/learning-tsp/data/tsp/tsp20-50_concorde.txt --model \"/content/drive/MyDrive/learning-tsp/outputs/tsp_20-50/ORI-GAT-3layer-300epcho-EPOCH_SIZE-128000_20220212T230350\" --decode_strategies greedy --batch_size 16 --width 0"
   ]
  },
  {
   "cell_type": "markdown",
   "metadata": {
    "id": "HlSZjLx4-Zb8"
   },
   "source": [
    "従来手法　TSP100"
   ]
  },
  {
   "cell_type": "code",
   "execution_count": null,
   "metadata": {
    "id": "rzW9oIhF-XeV"
   },
   "outputs": [],
   "source": [
    "!python3 eval.py /content/drive/MyDrive/learning-tsp/data/tsp/tsp100_test_concorde.txt --model \"/content/drive/MyDrive/learning-tsp/outputs/tsp_20-50/ORI-GAT-3layer-300epcho-EPOCH_SIZE-128000_20220212T230350\" --decode_strategies greedy --batch_size 16 --width 0"
   ]
  },
  {
   "cell_type": "markdown",
   "metadata": {
    "id": "hYq9CNXV9PXe"
   },
   "source": [
    "従来手法　TSP10-200"
   ]
  },
  {
   "cell_type": "code",
   "execution_count": null,
   "metadata": {
    "id": "z9Pvpios9aHy"
   },
   "outputs": [],
   "source": [
    "!python3 eval.py /content/drive/MyDrive/learning-tsp/data/tsp/tsp10-200_concorde.txt --model \"/content/drive/MyDrive/learning-tsp/outputs/tsp_20-50/ORI-GAT-3layer-300epcho-EPOCH_SIZE-128000_20220212T230350\" --decode_strategies greedy --batch_size 16 --width 0"
   ]
  },
  {
   "cell_type": "code",
   "execution_count": null,
   "metadata": {
    "id": "wWrU-150Cjf5"
   },
   "outputs": [],
   "source": []
  },
  {
   "cell_type": "code",
   "execution_count": null,
   "metadata": {
    "id": "GgsvCsh-Cit8"
   },
   "outputs": [],
   "source": []
  },
  {
   "cell_type": "code",
   "execution_count": null,
   "metadata": {
    "id": "a73stddECiQH"
   },
   "outputs": [],
   "source": []
  },
  {
   "cell_type": "markdown",
   "metadata": {
    "id": "PjD-g8HKAfMq"
   },
   "source": [
    "提案手法　TSP20-50"
   ]
  },
  {
   "cell_type": "code",
   "execution_count": null,
   "metadata": {
    "id": "PEuQxP43Abrl"
   },
   "outputs": [],
   "source": [
    "!python3 eval.py /content/drive/MyDrive/learning-tsp/data/tsp/tsp20-50_concorde.txt --model \"/content/drive/MyDrive/learning-tsp/outputs/tsp_20-50/Application-seino-EPSandJKN-epcho300-12800_20220318T013508\" --decode_strategies greedy --batch_size 16 --width 0"
   ]
  },
  {
   "cell_type": "markdown",
   "metadata": {
    "id": "aRru4SANA-ON"
   },
   "source": [
    "提案手法　TSP100"
   ]
  },
  {
   "cell_type": "code",
   "execution_count": null,
   "metadata": {
    "id": "wBOFyAfoAebr"
   },
   "outputs": [],
   "source": [
    "!python3 eval.py /content/drive/MyDrive/learning-tsp/data/tsp/tsp100_test_concorde.txt --model \"/content/drive/MyDrive/learning-tsp/outputs/tsp_20-50/Application-seino-EPSandJKN-epcho300-12800_20220318T013508\" --decode_strategies greedy --batch_size 16 --width 0"
   ]
  },
  {
   "cell_type": "markdown",
   "metadata": {
    "id": "6M3AIwoeBpSI"
   },
   "source": [
    "提案手法　TSP10-200"
   ]
  },
  {
   "cell_type": "code",
   "execution_count": null,
   "metadata": {
    "id": "k_kg5CbOBMUh"
   },
   "outputs": [],
   "source": [
    "!python3 eval.py /content/drive/MyDrive/learning-tsp/data/tsp/tsp10-200_concorde.txt --model \"/content/drive/MyDrive/learning-tsp/outputs/tsp_20-50/Application-seino-EPSandJKN-epcho300-12800_20220318T013508\" --decode_strategies greedy --batch_size 16 --width 0"
   ]
  },
  {
   "cell_type": "code",
   "execution_count": null,
   "metadata": {
    "id": "wyzdQxnDAbmm"
   },
   "outputs": [],
   "source": []
  },
  {
   "cell_type": "code",
   "execution_count": null,
   "metadata": {
    "id": "biGeYMEH9Tu_"
   },
   "outputs": [],
   "source": []
  },
  {
   "cell_type": "code",
   "execution_count": null,
   "metadata": {
    "id": "cqlSP2yWZJgb"
   },
   "outputs": [],
   "source": []
  },
  {
   "cell_type": "code",
   "execution_count": null,
   "metadata": {
    "id": "u7qBFek0ZJce"
   },
   "outputs": [],
   "source": []
  },
  {
   "cell_type": "code",
   "execution_count": null,
   "metadata": {
    "id": "NhUg-3j2t1p0"
   },
   "outputs": [],
   "source": []
  },
  {
   "cell_type": "markdown",
   "metadata": {
    "id": "MRGjndjkF0hM"
   },
   "source": [
    "TSP500　従来手法128　　epchosize 128000"
   ]
  },
  {
   "cell_type": "code",
   "execution_count": null,
   "metadata": {
    "id": "Awd1PwFAPufb"
   },
   "outputs": [],
   "source": [
    "!python3 eval.py /content/drive/MyDrive/learning-tsp/data/tsp/tsp-200-500-1000-data/tsp500_test_concorde.txt --model \"/content/drive/MyDrive/learning-tsp/outputs/tsp_20-50/ORI-GAT-3layer-300epcho-EPOCH_SIZE-128000_20220212T230350\" --decode_strategies greedy --batch_size 16 --width 0"
   ]
  },
  {
   "cell_type": "markdown",
   "metadata": {
    "id": "vEjoNn_nwQrz"
   },
   "source": [
    "TSP1000　従来手法128　　epchosize 128000"
   ]
  },
  {
   "cell_type": "code",
   "execution_count": null,
   "metadata": {
    "id": "kre0nJ3Oq90Y"
   },
   "outputs": [],
   "source": [
    "!python3 eval.py /content/drive/MyDrive/learning-tsp/data/tsp/tsp-200-500-1000-data/tsp1000_test_concorde.txt --model \"/content/drive/MyDrive/learning-tsp/outputs/tsp_20-50/ORI-GAT-3layer-300epcho-EPOCH_SIZE-128000_20220212T230350\" --decode_strategies greedy --batch_size 16 --width 0"
   ]
  },
  {
   "cell_type": "markdown",
   "metadata": {
    "id": "AhKcqOlnwT_c"
   },
   "source": [
    "**TSP10000**　従来手法128　　epchosize 128000"
   ]
  },
  {
   "cell_type": "code",
   "execution_count": null,
   "metadata": {
    "id": "nMfbVc3nq9us"
   },
   "outputs": [],
   "source": [
    "!python3 eval.py /content/drive/MyDrive/learning-tsp/data/tsp/tsp10000_test_concorde.txt --model \"/content/drive/MyDrive/learning-tsp/outputs/tsp_20-50/ORI-GAT-3layer-300epcho-EPOCH_SIZE-128000_20220212T230350\" --decode_strategies greedy --batch_size 1 --width 0"
   ]
  },
  {
   "cell_type": "code",
   "execution_count": null,
   "metadata": {
    "id": "_PsUHBGIq9ta"
   },
   "outputs": [],
   "source": []
  },
  {
   "cell_type": "code",
   "execution_count": null,
   "metadata": {
    "id": "1XNjHQnsq9n6"
   },
   "outputs": [],
   "source": []
  },
  {
   "cell_type": "code",
   "execution_count": null,
   "metadata": {
    "id": "ZjikMWEqwZ4i"
   },
   "outputs": [],
   "source": []
  },
  {
   "cell_type": "code",
   "execution_count": null,
   "metadata": {
    "id": "d3IdtFzxxqNn"
   },
   "outputs": [],
   "source": []
  },
  {
   "cell_type": "code",
   "execution_count": null,
   "metadata": {
    "id": "8ty8lR_Nxz0N"
   },
   "outputs": [],
   "source": []
  },
  {
   "cell_type": "markdown",
   "metadata": {
    "id": "PakDne7ipDaz"
   },
   "source": [
    "TSP500　提案手法128   epchosize 128000"
   ]
  },
  {
   "cell_type": "code",
   "execution_count": null,
   "metadata": {
    "id": "wdG4TTFLPuY8"
   },
   "outputs": [],
   "source": [
    "!python3 eval.py /content/drive/MyDrive/learning-tsp/data/tsp/tsp-200-500-1000-data/tsp500_test_concorde.txt --model \"/content/drive/MyDrive/learning-tsp/outputs/tsp_20-50/Application-seino-EPSandJKN-epcho300-12800_20220318T013508\" --decode_strategies greedy --batch_size 16 --width 0"
   ]
  },
  {
   "cell_type": "markdown",
   "metadata": {
    "id": "lAKUhAB1qBsL"
   },
   "source": [
    "TSP1000　提案手法128     epchosize 128000"
   ]
  },
  {
   "cell_type": "code",
   "execution_count": null,
   "metadata": {
    "id": "gdAbXDALSmpI"
   },
   "outputs": [],
   "source": [
    "!python3 eval.py /content/drive/MyDrive/learning-tsp/data/tsp/tsp-200-500-1000-data/tsp1000_test_concorde.txt --model \"/content/drive/MyDrive/learning-tsp/outputs/tsp_20-50/Application-seino-EPSandJKN-epcho300-12800_20220318T013508\" --decode_strategies greedy --batch_size 16 --width 0"
   ]
  },
  {
   "cell_type": "markdown",
   "metadata": {
    "id": "GQYdGb3aroFY"
   },
   "source": [
    "TSP10000　提案手法128 epchosize 128000"
   ]
  },
  {
   "cell_type": "code",
   "execution_count": null,
   "metadata": {
    "id": "GD0-WBO5rTDT"
   },
   "outputs": [],
   "source": [
    "!python3 eval.py /content/drive/MyDrive/learning-tsp/data/tsp/tsp10000_test_concorde.txt --model \"/content/drive/MyDrive/learning-tsp/outputs/tsp_20-50/Application-seino-EPSandJKN-epcho300-12800_20220318T013508\" --decode_strategies greedy --batch_size 1 --width 0"
   ]
  },
  {
   "cell_type": "code",
   "execution_count": null,
   "metadata": {
    "id": "u93NjErSrRSe"
   },
   "outputs": [],
   "source": []
  },
  {
   "cell_type": "code",
   "execution_count": null,
   "metadata": {
    "id": "iMGBkN68rRHo"
   },
   "outputs": [],
   "source": []
  },
  {
   "cell_type": "code",
   "execution_count": null,
   "metadata": {
    "id": "7vRz17GHwa_g"
   },
   "outputs": [],
   "source": []
  },
  {
   "cell_type": "code",
   "execution_count": null,
   "metadata": {
    "id": "bHRPYucQOea3"
   },
   "outputs": [],
   "source": []
  },
  {
   "cell_type": "code",
   "execution_count": null,
   "metadata": {
    "id": "gxp44NrQOeVf"
   },
   "outputs": [],
   "source": []
  },
  {
   "cell_type": "code",
   "execution_count": null,
   "metadata": {
    "id": "DnRYANfNOeMj"
   },
   "outputs": [],
   "source": []
  },
  {
   "cell_type": "code",
   "execution_count": null,
   "metadata": {
    "id": "CGn_iWa14W-5"
   },
   "outputs": [],
   "source": []
  },
  {
   "cell_type": "code",
   "execution_count": null,
   "metadata": {
    "id": "RZQz4Zxv4W8F"
   },
   "outputs": [],
   "source": []
  },
  {
   "cell_type": "code",
   "execution_count": null,
   "metadata": {
    "id": "iOrDDlkM4W5S"
   },
   "outputs": [],
   "source": []
  },
  {
   "cell_type": "code",
   "execution_count": null,
   "metadata": {
    "id": "G4DiQ0Cn4W1j"
   },
   "outputs": [],
   "source": []
  },
  {
   "cell_type": "markdown",
   "metadata": {
    "id": "5R4FM0qYfjuc"
   },
   "source": [
    "# 従来手法\n"
   ]
  },
  {
   "cell_type": "markdown",
   "metadata": {
    "id": "JuYva0ry6i20"
   },
   "source": [
    "コース８"
   ]
  },
  {
   "cell_type": "code",
   "execution_count": null,
   "metadata": {
    "id": "FDG2nr0ufhfw"
   },
   "outputs": [],
   "source": [
    "!python3 eval.py /content/drive/MyDrive/learning-tsp/data/tsp/8-seinotsp_val_concorde.txt --model \"/content/drive/MyDrive/learning-tsp/outputs/tsp_20-50/EPSandJKNv16-epcho300size12800_20220312T045455\" --decode_strategies greedy --batch_size 16 --width 0"
   ]
  },
  {
   "cell_type": "code",
   "execution_count": null,
   "metadata": {
    "id": "dlcJ6cy82xrG"
   },
   "outputs": [],
   "source": [
    "p0=(35.3558458 ,136.6503244 )\n",
    "p1=(35.3580764 ,136.6530828 )\n",
    "p2=(35.3606125 ,136.6530022)\n",
    "p3=(35.0456519 ,136.9665011 )\n",
    "p4=(35.3525647 ,136.9665011 )\n",
    "p5=(35.3528967 ,136.6440647)\n",
    "p6=(35.3593797 ,136.612745)\n",
    "p7=(35.3494581 ,136.6478467)\n",
    "p8=(35.3481208 ,136.6487477)\n",
    "p9=(35.3484291 ,136.6486616)\n",
    "p10=(35.3484358 ,136.6486661)\n",
    "p11=(35.3484291 ,136.6486616 )\n",
    "p12=(35.3484358 ,136.6486661 )\n",
    "p13=(35.3500217 ,136.6459675 )\n",
    "p14=(35.3474303 ,136.6485717 )\n",
    "p15=(35.3464803 ,136.6481772 )\n",
    "\n",
    "from geopy.distance import geodesic\n",
    "dist2 = geodesic( p2,  p1,  p0,  p3, p10, p12, p11,  p9,  p8, p14, p15,  p7, p13,  p4,  p5,  p6,p2).km\n",
    "print(dist2)"
   ]
  },
  {
   "cell_type": "markdown",
   "metadata": {
    "id": "u1H30tM76fLK"
   },
   "source": [
    "コース７"
   ]
  },
  {
   "cell_type": "code",
   "execution_count": null,
   "metadata": {
    "id": "ijTebrhv55YJ"
   },
   "outputs": [],
   "source": [
    "!python3 eval.py /content/drive/MyDrive/learning-tsp/data/tsp/7-seinotsp_val_concorde.txt --model \"/content/drive/MyDrive/learning-tsp/outputs/tsp_20-50/Original-gat-datasettsp20-50-3layer-128dim-N-0.2-epcho1000_20211218T061608\" --decode_strategies greedy --batch_size 16 --width 0"
   ]
  },
  {
   "cell_type": "code",
   "execution_count": null,
   "metadata": {
    "id": "Wqi7n_0O6p5B"
   },
   "outputs": [],
   "source": [
    "p0=(35.3905128 ,136.5925117 )\n",
    "p1=(35.3853694 ,136.5919175)\n",
    "p2=(35.3846139 ,136.5928953)\n",
    "p3=(35.3932911 ,136.6010125)\n",
    "p4=(35.3921578 ,136.5980931)\n",
    "p5=(35.3939656 ,136.5938033)\n",
    "p6=(35.4032603 ,136.5902089)\n",
    "p7=(35.4044853 ,136.5901533)\n",
    "p8=(35.3965333 ,136.5844383)\n",
    "p9=(35.3930233 ,136.5834883)\n",
    "p10=( 35.3955222 ,136.5813522)\n",
    "p11=(35.3930289 ,136.5755272)\n",
    "p12=(35.3919539 ,136.5755189)\n",
    "p13=(35.3913928 ,136.576705)\n",
    "p14=(35.3913739 ,136.5852006)\n",
    "p15=(35.3898422 ,136.5780052)\n",
    "p16=(35.3885822 ,136.58847)\n",
    "p17=(35.3879433 ,136.5868506)\n",
    "p18=(35.3886567 ,136.5840383)\n",
    "from geopy.distance import geodesic\n",
    "dist2 = geodesic(p6,  p3,  p4,  p5,  p0,  p2,  p1, p16, p17, p18, p14, p15, p13, p12, p11, p10,  p9,  p8,p7,p6).km\n",
    "print(dist2)"
   ]
  },
  {
   "cell_type": "code",
   "execution_count": null,
   "metadata": {
    "id": "QtfTyOw88X2-"
   },
   "outputs": [],
   "source": [
    "\n",
    "from geopy.distance import geodesic\n",
    "dist2 = geodesic(p7,  p6,  p3,  p4,  p5,  p0,  p2,  p1, p16, p17, p18, p14,  p9, p15, p13, p12, p11, p10,p8,p7).km\n",
    "print(dist2)"
   ]
  },
  {
   "cell_type": "markdown",
   "metadata": {
    "id": "cB_YSH6F9E0B"
   },
   "source": [
    "コース６"
   ]
  },
  {
   "cell_type": "code",
   "execution_count": null,
   "metadata": {
    "id": "pYTYTqPK6QYM"
   },
   "outputs": [],
   "source": [
    "!python3 eval.py /content/drive/MyDrive/learning-tsp/data/tsp/6-seinotsp_val_concorde.txt --model \"/content/drive/MyDrive/learning-tsp/outputs/tsp_20-50/Original-gat-datasettsp20-50-3layer-128dim-N-0.2-epcho1000_20211218T061608\" --decode_strategies greedy --batch_size 16 --width 0"
   ]
  },
  {
   "cell_type": "code",
   "execution_count": null,
   "metadata": {
    "id": "J7F2BqoE9XWC"
   },
   "outputs": [],
   "source": [
    "p0=( 35.3607681 ,136.6444783)\n",
    "p1=( 35.3606125 ,136.6444783)\n",
    "p2=( 35.3558458 ,136.6503244)\n",
    "p3=( 35.3534153 ,136.6479633)\n",
    "p4=( 35.3525717 ,136.6447064)\n",
    "p5=( 35.3528967 ,136.6440647)\n",
    "p6=( 35.3521272 ,136.6446814)\n",
    "p7=( 35.3484291 ,136.6486616)\n",
    "p8=( 35.3474303 ,136.6485717)\n",
    "p9=( 35.3500217 ,136.6459675)\n",
    "\n",
    "from geopy.distance import geodesic\n",
    "dist2 = geodesic(p1, p2, p3, p7, p8, p9, p6, p4, p5, p0,p1).km\n",
    "print(dist2)"
   ]
  },
  {
   "cell_type": "code",
   "execution_count": null,
   "metadata": {
    "id": "ncvHp0I59XTE"
   },
   "outputs": [],
   "source": [
    "\n",
    "from geopy.distance import geodesic\n",
    "dist2 = geodesic(p1, p2, p3, p7, p8, p9, p6, p4, p5, p0,p1).km\n",
    "print(dist2)"
   ]
  },
  {
   "cell_type": "markdown",
   "metadata": {
    "id": "dle0J5KpiQLA"
   },
   "source": [
    "コース５"
   ]
  },
  {
   "cell_type": "code",
   "execution_count": null,
   "metadata": {
    "id": "pL1Q9Wye6YaD"
   },
   "outputs": [],
   "source": [
    "!python3 eval.py /content/drive/MyDrive/learning-tsp/data/tsp/5-seinotsp_val_concorde.txt --model \"/content/drive/MyDrive/learning-tsp/outputs/tsp_20-50/Original-gat-datasettsp20-50-3layer-128dim-N-0.2-epcho1000_20211218T061608\" --decode_strategies greedy --batch_size 16 --width 0"
   ]
  },
  {
   "cell_type": "code",
   "execution_count": null,
   "metadata": {
    "id": "M0Bk58hO9XBY"
   },
   "outputs": [],
   "source": [
    "p0=(35.3677625 ,136.6207827)\n",
    "p1=(35.3776656 ,136.6177669)\n",
    "p2=(35.378135 ,136.6208142)\n",
    "p3=(35.3781378 ,136.6168919)\n",
    "p4=(35.37771 ,136.6156336)\n",
    "p5=(35.3724406 ,136.6176503)\n",
    "p6=(35.3724338 ,136.6176441)\n",
    "p7=(35.3686803 ,136.6195172)\n",
    "p8=(35.3686733 ,136.6195108)\n",
    "p9=(35.3686803 ,136.6195172)\n",
    "p10=(35.3689942 ,136.6204394)\n",
    "p11=(35.3676914 ,136.61537)\n",
    "p12=(35.3781378\t,136.6168919)\n",
    "\n",
    "from geopy.distance import geodesic\n",
    "dist2 = geodesic(p2, p10,  p0,  p7,  p9,  p8, p11,  p6,  p5,  p4,  p3, p12,  p1,p2).km\n",
    "print(dist2)"
   ]
  },
  {
   "cell_type": "code",
   "execution_count": null,
   "metadata": {
    "id": "xCjJwbCzHquT"
   },
   "outputs": [],
   "source": [
    "\n",
    "from geopy.distance import geodesic\n",
    "dist2 = geodesic(p2,  p0, p10,  p7,  p9,  p8, p11,  p6,  p5,  p4,  p3, p12,  p1,p2).km\n",
    "print(dist2)"
   ]
  },
  {
   "cell_type": "markdown",
   "metadata": {
    "id": "ofrB9r-liSjq"
   },
   "source": [
    "コース４"
   ]
  },
  {
   "cell_type": "code",
   "execution_count": null,
   "metadata": {
    "id": "EIW5MwHu6mM_"
   },
   "outputs": [],
   "source": [
    "!python3 eval.py /content/drive/MyDrive/learning-tsp/data/tsp/4-seinotsp_val_concorde.txt --model \"/content/drive/MyDrive/learning-tsp/outputs/tsp_20-50/Original-gat-datasettsp20-50-3layer-128dim-N-0.2-epcho1000_20211218T061608\" --decode_strategies greedy --batch_size 16 --width 0"
   ]
  },
  {
   "cell_type": "code",
   "execution_count": null,
   "metadata": {
    "id": "7bfBK3CWiSFN"
   },
   "outputs": [],
   "source": [
    "p0=( 35.3574311 ,136.6122286)\n",
    "p1=( 35.358195 ,136.6101731)\n",
    "p2=( 35.3570111 ,136.6000275)\n",
    "p3=( 35.3581944 ,136.6010053)\n",
    "p4=( 35.3402872 ,136.5997577)\n",
    "p5=( 35.3375013 ,136.5999802)\n",
    "p6=( 35.3100466 ,136.6141522)\n",
    "\n",
    "from geopy.distance import geodesic\n",
    "dist2 = geodesic(p1, p0, p6, p5, p4, p2, p3,p1).km\n",
    "print(dist2)"
   ]
  },
  {
   "cell_type": "code",
   "execution_count": null,
   "metadata": {
    "id": "4yiKfE8TLY35"
   },
   "outputs": [],
   "source": [
    "\n",
    "from geopy.distance import geodesic\n",
    "dist2 = geodesic(p1, p0, p6, p5, p4, p2, p3,p1).km\n",
    "print(dist2)"
   ]
  },
  {
   "cell_type": "markdown",
   "metadata": {
    "id": "6TOgO3FJiU7t"
   },
   "source": [
    "コース３"
   ]
  },
  {
   "cell_type": "code",
   "execution_count": null,
   "metadata": {
    "id": "wwLU9aNr7KH6"
   },
   "outputs": [],
   "source": [
    "!python3 eval.py /content/drive/MyDrive/learning-tsp/data/tsp/3-seinotsp_val_concorde.txt --model \"/content/drive/MyDrive/learning-tsp/outputs/tsp_20-50/Original-gat-datasettsp20-50-3layer-128dim-N-0.2-epcho1000_20211218T061608\" --decode_strategies greedy --batch_size 16 --width 0"
   ]
  },
  {
   "cell_type": "code",
   "execution_count": null,
   "metadata": {
    "id": "OYe81uINij79"
   },
   "outputs": [],
   "source": [
    "p0=(35.3709283\t,136.6076283)\n",
    "p1=(35.3599486\t,136.7252522)\n",
    "p2=(35.3762042\t,136.6086381)\n",
    "p3=(35.3788258\t,136.5985625)\n",
    "p4=(35.0203567\t,137.0927981)\n",
    "p5=(35.3826675\t,136.6116222)\n",
    "p6=(35.3816703\t,136.6064375)\n",
    "p7=(35.3781097\t,136.5977408)\n",
    "p8=(35.3795369\t,136.6127833)\n",
    "\n",
    "from geopy.distance import geodesic\n",
    "dist2 = geodesic(p1, p4, p0, p7, p3, p2, p6, p8, p5,p1).km\n",
    "print(dist2)"
   ]
  },
  {
   "cell_type": "code",
   "execution_count": null,
   "metadata": {
    "id": "hM1NozzkMRZB"
   },
   "outputs": [],
   "source": [
    "\n",
    "from geopy.distance import geodesic\n",
    "dist2 = geodesic(p1, p4, p0, p7, p3, p2, p6, p5, p8,p1).km\n",
    "print(dist2)"
   ]
  },
  {
   "cell_type": "markdown",
   "metadata": {
    "id": "fpEtK9ZNiWT9"
   },
   "source": [
    "コース２"
   ]
  },
  {
   "cell_type": "code",
   "execution_count": null,
   "metadata": {
    "id": "5AEOOg_n7VB3"
   },
   "outputs": [],
   "source": [
    "!python3 eval.py /content/drive/MyDrive/learning-tsp/data/tsp/2-seinotsp_val_concorde.txt --model \"/content/drive/MyDrive/learning-tsp/outputs/tsp_20-50/Original-gat-datasettsp20-50-3layer-128dim-N-0.2-epcho1000_20211218T061608\" --decode_strategies greedy --batch_size 16 --width 0"
   ]
  },
  {
   "cell_type": "code",
   "execution_count": null,
   "metadata": {
    "id": "vBohoz_DNCny"
   },
   "outputs": [],
   "source": [
    "p0=(35.341495\t,136.645065)\n",
    "p1=(35.3308847\t,136.6328861)\n",
    "p2=(35.330878\t,136.6328802)\n",
    "p3=(35.3317203\t,136.6210072)\n",
    "p4=(35.3334792\t,136.6223222)\n",
    "p5=(35.3348486\t,136.6224694)\n",
    "p6=(35.3321981\t,136.6216822)\n",
    "p7=(35.3359814\t,136.6204517)\n",
    "p8=(35.3349314\t,136.62056)\n",
    "p9=(35.3342508\t,136.6198517)\n",
    "p10=(35.2860244\t,136.6020822)\n",
    "p11=(35.3367358\t,136.6209708)\n",
    "p12=(35.3380081\t,136.6203181)\n",
    "p13=(35.3376608\t,136.6203097)\n",
    "p14=(35.3370358\t,136.6191708)\n",
    "p15=(35.3376081\t,136.6198708)\n",
    "p16=(35.3368053\t,136.6178819)\n",
    "p17=(35.3388747\t,136.6187208)\n",
    "p18=(35.3387136\t,136.6212625)\n",
    "p19=(35.3393247\t,136.6205375)\n",
    "p20=(35.3417469\t,136.6214153)\n",
    "p21=(35.3416997\t,136.6216042)\n",
    "p22=(35.3416997\t,136.6216042)\n",
    "p23=(35.3427919\t,136.6223969)\n",
    "p24=(35.3372892\t,136.6233469)\n",
    "p25=(35.3385442\t,136.6220069)\n",
    "p26=(35.3370025\t,136.6216903)\n",
    "p27=(35.3364592\t,136.6216544)\n",
    "p28=(35.3319731\t,136.6210267)\n",
    "p29=(35.3319869\t,136.6217044)\n",
    "p30=(35.3355731\t,136.6207211)\n",
    "p31=(35.3352397\t,136.6127683)\n",
    "p32=(35.3305536\t,136.6197322)\n",
    "\n",
    "from geopy.distance import geodesic\n",
    "dist2 = geodesic(p0,  p1,  p2, p24,  p5,  p4,  p6, p29, p28,  p3, p32, p10,  p9,  p8, p30, p27,  p7, p11,\n",
    "         p26, p13, p14, p31, p16, p15, p17, p12, p19, p18, p25, p20, p21, p22, p23).km\n",
    "print(dist2)"
   ]
  },
  {
   "cell_type": "code",
   "execution_count": null,
   "metadata": {
    "id": "QlH_yuKCOUsM"
   },
   "outputs": [],
   "source": [
    "\n",
    "from geopy.distance import geodesic\n",
    "dist2 = geodesic(p0,  p1,  p2, p24,  p5,  p4,  p6, p29, p28,  p3, p32, p10,  p9,  p8, p30, p27,  p7, p11,\n",
    "         p26, p13, p14, p31, p16, p15, p17, p12, p19, p18, p25, p20, p21, p22, p23).km\n",
    "print(dist2)"
   ]
  },
  {
   "cell_type": "markdown",
   "metadata": {
    "id": "Im8OPdtgiXp7"
   },
   "source": [
    "コース１"
   ]
  },
  {
   "cell_type": "code",
   "execution_count": null,
   "metadata": {
    "id": "0ViWQK_f7gpY"
   },
   "outputs": [],
   "source": [
    "!python3 eval.py /content/drive/MyDrive/learning-tsp/data/tsp/1-seinotsp_val_concorde.txt --model \"/content/drive/MyDrive/learning-tsp/outputs/tsp_20-50/Original-gat-datasettsp20-50-3layer-128dim-N-0.2-epcho1000_20211218T061608\" --decode_strategies greedy --batch_size 16 --width 0"
   ]
  },
  {
   "cell_type": "code",
   "execution_count": null,
   "metadata": {
    "id": "G0gFLIHkM7Hz"
   },
   "outputs": [],
   "source": [
    "p0=(35.3574861,\t136.6079692)\n",
    "p1=(35.3570111,\t136.6000275)\n",
    "p2=(35.3485197,\t136.5990855)\n",
    "p3=(35.3434492,\t136.6074944)\n",
    "p4=(35.3348425,\t136.6108656)\n",
    "p5=(35.3310369,\t136.6114156)\n",
    "p6=(35.3284842,\t136.6118822)\n",
    "p7=(35.3263911,\t136.6134797)\n",
    "p8=(35.3174311,\t136.6008261)\n",
    "p9=(35.3238461,\t136.6049397)\n",
    "p10=(35.3261601,\t136.6077207)\n",
    "p11=(35.329175,\t136.5939883)\n",
    "p12=(35.3319869,\t136.6217044)\n",
    "p13=(35.3340802\t,136.632108)\n",
    "p14=(35.3205167\t,136.6370683)\n",
    "\n",
    "from geopy.distance import geodesic\n",
    "dist2 = geodesic(p0, p14, p15, p13,  p5,  p6,  p7,  p8, p11, p10,  p9, p12,  p4,  p3,  p2,  p1,p0).km\n",
    "print(dist2)"
   ]
  },
  {
   "cell_type": "code",
   "execution_count": null,
   "metadata": {
    "id": "9bbhaKVHP9FQ"
   },
   "outputs": [],
   "source": [
    "\n",
    "from geopy.distance import geodesic\n",
    "dist2 = geodesic(p0, p14, p15, p13,  p5,  p6,  p7,  p8, p11, p10,  p9, p12,  p4,  p3,  p2,  p1,p0).km\n",
    "print(dist2)"
   ]
  },
  {
   "cell_type": "code",
   "execution_count": null,
   "metadata": {
    "id": "xv0ZNu9CUTas"
   },
   "outputs": [],
   "source": []
  },
  {
   "cell_type": "code",
   "execution_count": null,
   "metadata": {
    "id": "FsTUUs-gUTWZ"
   },
   "outputs": [],
   "source": []
  },
  {
   "cell_type": "code",
   "execution_count": null,
   "metadata": {
    "id": "JywTHMsoUS-j"
   },
   "outputs": [],
   "source": []
  },
  {
   "cell_type": "markdown",
   "metadata": {
    "id": "7CpOz8cD5rzE"
   },
   "source": [
    "# 提案手法\n"
   ]
  },
  {
   "cell_type": "markdown",
   "metadata": {
    "id": "85s44x_CSl6V"
   },
   "source": [
    "コース８"
   ]
  },
  {
   "cell_type": "code",
   "execution_count": null,
   "metadata": {
    "id": "udMcXQvve-mE"
   },
   "outputs": [],
   "source": [
    "!python3 eval.py /content/drive/MyDrive/learning-tsp/data/tsp/8-seinotsp_val_concorde.txt --model \"/content/drive/MyDrive/learning-tsp/outputs/tsp_20-50/Application-seino-EPSandJKN-epcho300-12800_20220318T013508\" --decode_strategies greedy --batch_size 16 --width 0"
   ]
  },
  {
   "cell_type": "code",
   "execution_count": null,
   "metadata": {
    "id": "GldduQv3SlDe"
   },
   "outputs": [],
   "source": [
    "p0=(35.3558458 ,136.6503244 )\n",
    "p1=(35.3580764 ,136.6530828 )\n",
    "p2=(35.3606125 ,136.6530022)\n",
    "p3=(35.0456519 ,136.9665011 )\n",
    "p4=(35.3525647 ,136.9665011 )\n",
    "p5=(35.3528967 ,136.6440647)\n",
    "p6=(35.3593797 ,136.612745)\n",
    "p7=(35.3494581 ,136.6478467)\n",
    "p8=(35.3481208 ,136.6487477)\n",
    "p9=(35.3484291 ,136.6486616)\n",
    "p10=(35.3484358 ,136.6486661)\n",
    "p11=(35.3484291 ,136.6486616 )\n",
    "p12=(35.3484358 ,136.6486661 )\n",
    "p13=(35.3500217 ,136.6459675 )\n",
    "p14=(35.3474303 ,136.6485717 )\n",
    "p15=(35.3464803 ,136.6481772 )\n",
    "\n",
    "from geopy.distance import geodesic\n",
    "dist2 = geodesic(p15, p14,  p8, p11,  p9, p10, p12,  p7, p13,  p6,  p5,  p4,  p0,  p2,  p1,  p3).km\n",
    "print(dist2)"
   ]
  },
  {
   "cell_type": "markdown",
   "metadata": {
    "id": "Vsh4A6tmUun9"
   },
   "source": [
    "コース７"
   ]
  },
  {
   "cell_type": "code",
   "execution_count": null,
   "metadata": {
    "id": "VTi4XlwIAvTq"
   },
   "outputs": [],
   "source": [
    "!python3 eval.py /content/drive/MyDrive/learning-tsp/data/tsp/7-seinotsp_val_concorde.txt --model \"/content/drive/MyDrive/learning-tsp/outputs/tsp_20-50/EPSandJKNv3-epcho1000size12800_20220301T054329\" --decode_strategies greedy --batch_size 16 --width 0"
   ]
  },
  {
   "cell_type": "code",
   "execution_count": null,
   "metadata": {
    "id": "jlf5V6GYVYF6"
   },
   "outputs": [],
   "source": [
    "p0=(35.3905128 ,136.5925117 )\n",
    "p1=(35.3853694 ,136.5919175)\n",
    "p2=(35.3846139 ,136.5928953)\n",
    "p3=(35.3932911 ,136.6010125)\n",
    "p4=(35.3921578 ,136.5980931)\n",
    "p5=(35.3939656 ,136.5938033)\n",
    "p6=(35.4032603 ,136.5902089)\n",
    "p7=(35.4044853 ,136.5901533)\n",
    "p8=(35.3965333 ,136.5844383)\n",
    "p9=(35.3930233 ,136.5834883)\n",
    "p10=( 35.3955222 ,136.5813522)\n",
    "p11=(35.3930289 ,136.5755272)\n",
    "p12=(35.3919539 ,136.5755189)\n",
    "p13=(35.3913928 ,136.576705)\n",
    "p14=(35.3913739 ,136.5852006)\n",
    "p15=(35.3898422 ,136.5780052)\n",
    "p16=(35.3885822 ,136.58847)\n",
    "p17=(35.3879433 ,136.5868506)\n",
    "p18=(35.3886567 ,136.5840383)\n",
    "from geopy.distance import geodesic\n",
    "dist2 = geodesic(p18, p14,  p9, p15, p13, p12, p11, p10,  p8,  p7,  p6,  p5,  p3,  p4,  p0,  p2,  p1, p16,p17).km\n",
    "print(dist2)"
   ]
  },
  {
   "cell_type": "markdown",
   "metadata": {
    "id": "0uiJk3EpUyt0"
   },
   "source": [
    "コース６"
   ]
  },
  {
   "cell_type": "code",
   "execution_count": null,
   "metadata": {
    "id": "qPT_4i1u4b9I"
   },
   "outputs": [],
   "source": [
    "!python3 eval.py /content/drive/MyDrive/learning-tsp/data/tsp/6-seinotsp_val_concorde.txt --model \"/content/drive/MyDrive/learning-tsp/outputs/tsp_20-50/EPSandJKNv3-epcho1000size12800_20220301T054329\" --decode_strategies greedy --batch_size 16 --width 0"
   ]
  },
  {
   "cell_type": "code",
   "execution_count": null,
   "metadata": {
    "id": "PuwP2TWQWOpj"
   },
   "outputs": [],
   "source": [
    "p0=( 35.3607681 ,136.6444783)\n",
    "p1=( 35.3606125 ,136.6444783)\n",
    "p2=( 35.3558458 ,136.6503244)\n",
    "p3=( 35.3534153 ,136.6479633)\n",
    "p4=( 35.3525717 ,136.6447064)\n",
    "p5=( 35.3528967 ,136.6440647)\n",
    "p6=( 35.3521272 ,136.6446814)\n",
    "p7=( 35.3484291 ,136.6486616)\n",
    "p8=( 35.3474303 ,136.6485717)\n",
    "p9=( 35.3500217 ,136.6459675)\n",
    "\n",
    "from geopy.distance import geodesic\n",
    "dist2 = geodesic(p9, p6, p4, p5, p0, p1, p2, p3, p7, p8).km\n",
    "print(dist2)"
   ]
  },
  {
   "cell_type": "markdown",
   "metadata": {
    "id": "LPdCXsSKU1AT"
   },
   "source": [
    "コース５"
   ]
  },
  {
   "cell_type": "code",
   "execution_count": null,
   "metadata": {
    "id": "2i2uawD34cFj"
   },
   "outputs": [],
   "source": [
    "!python3 eval.py /content/drive/MyDrive/learning-tsp/data/tsp/5-seinotsp_val_concorde.txt --model \"/content/drive/MyDrive/learning-tsp/outputs/tsp_20-50/EPSandJKNv3-epcho1000size12800_20220301T054329\" --decode_strategies greedy --batch_size 16 --width 0"
   ]
  },
  {
   "cell_type": "code",
   "execution_count": null,
   "metadata": {
    "id": "mFIsr8KEXu5l"
   },
   "outputs": [],
   "source": [
    "p0=(35.3677625 ,136.6207827)\n",
    "p1=(35.3776656 ,136.6177669)\n",
    "p2=(35.378135 ,136.6208142)\n",
    "p3=(35.3781378 ,136.6168919)\n",
    "p4=(35.37771 ,136.6156336)\n",
    "p5=(35.3724406 ,136.6176503)\n",
    "p6=(35.3724338 ,136.6176441)\n",
    "p7=(35.3686803 ,136.6195172)\n",
    "p8=(35.3686733 ,136.6195108)\n",
    "p9=(35.3686803 ,136.6195172)\n",
    "p10=(35.3689942 ,136.6204394)\n",
    "p11=(35.3676914 ,136.61537)\n",
    "p12=(35.3781378\t,136.6168919)\n",
    "\n",
    "from geopy.distance import geodesic\n",
    "dist2 = geodesic(p8,  p7,  p9,  p0, p10,  p2,  p1,  p3, p12,  p4,  p5,  p6, p11,p8).km\n",
    "print(dist2)"
   ]
  },
  {
   "cell_type": "markdown",
   "metadata": {
    "id": "G1G5wRRSU4T8"
   },
   "source": [
    "コース４"
   ]
  },
  {
   "cell_type": "code",
   "execution_count": null,
   "metadata": {
    "id": "Y4Csn19a4hoC"
   },
   "outputs": [],
   "source": [
    "!python3 eval.py /content/drive/MyDrive/learning-tsp/data/tsp/4-seinotsp_val_concorde.txt --model \"/content/drive/MyDrive/learning-tsp/outputs/tsp_20-50/EPSandJKNv3-epcho1000size12800_20220301T054329\" --decode_strategies greedy --batch_size 16 --width 0"
   ]
  },
  {
   "cell_type": "code",
   "execution_count": null,
   "metadata": {
    "id": "bhPkCah8YXFy"
   },
   "outputs": [],
   "source": [
    "p0=( 35.3574311 ,136.6122286)\n",
    "p1=( 35.358195 ,136.6101731)\n",
    "p2=( 35.3570111 ,136.6000275)\n",
    "p3=( 35.3581944 ,136.6010053)\n",
    "p4=( 35.3402872 ,136.5997577)\n",
    "p5=( 35.3375013 ,136.5999802)\n",
    "p6=( 35.3100466 ,136.6141522)\n",
    "\n",
    "from geopy.distance import geodesic\n",
    "dist2 = geodesic(p5, p4, p2, p3, p1, p0, p6).km\n",
    "print(dist2)"
   ]
  },
  {
   "cell_type": "markdown",
   "metadata": {
    "id": "5WUY3WYyU7P4"
   },
   "source": [
    "コース３"
   ]
  },
  {
   "cell_type": "code",
   "execution_count": null,
   "metadata": {
    "id": "vY6mvuJC4hft"
   },
   "outputs": [],
   "source": [
    "!python3 eval.py /content/drive/MyDrive/learning-tsp/data/tsp/3-seinotsp_val_concorde.txt --model \"/content/drive/MyDrive/learning-tsp/outputs/tsp_20-50/EPSandJKNv3-epcho1000size12800_20220301T054329\" --decode_strategies greedy --batch_size 16 --width 0"
   ]
  },
  {
   "cell_type": "code",
   "execution_count": null,
   "metadata": {
    "id": "NZDQadoXYpbC"
   },
   "outputs": [],
   "source": [
    "p0=(35.3709283\t,136.6076283)\n",
    "p1=(35.3599486\t,136.7252522)\n",
    "p2=(35.3762042\t,136.6086381)\n",
    "p3=(35.3788258\t,136.5985625)\n",
    "p4=(35.0203567\t,137.0927981)\n",
    "p5=(35.3826675\t,136.6116222)\n",
    "p6=(35.3816703\t,136.6064375)\n",
    "p7=(35.3781097\t,136.5977408)\n",
    "p8=(35.3795369\t,136.6127833)\n",
    "\n",
    "from geopy.distance import geodesic\n",
    "dist2 = geodesic(p0, p2, p7, p3, p6, p8, p5, p1, p4,p0).km\n",
    "print(dist2)"
   ]
  },
  {
   "cell_type": "markdown",
   "metadata": {
    "id": "Mw2Nb4TVU-Bo"
   },
   "source": [
    "コース２"
   ]
  },
  {
   "cell_type": "code",
   "execution_count": null,
   "metadata": {
    "id": "MGxapy2T4hW6"
   },
   "outputs": [],
   "source": [
    "!python3 eval.py /content/drive/MyDrive/learning-tsp/data/tsp/2-seinotsp_val_concorde.txt --model \"/content/drive/MyDrive/learning-tsp/outputs/tsp_20-50/EPSandJKNv3-epcho1000size12800_20220301T054329\" --decode_strategies greedy --batch_size 16 --width 0"
   ]
  },
  {
   "cell_type": "code",
   "execution_count": null,
   "metadata": {
    "id": "_Wsz3rvfeezK"
   },
   "outputs": [],
   "source": [
    "p0=(35.341495\t,136.645065)\n",
    "p1=(35.3308847\t,136.6328861)\n",
    "p2=(35.330878\t,136.6328802)\n",
    "p3=(35.3317203\t,136.6210072)\n",
    "p4=(35.3334792\t,136.6223222)\n",
    "p5=(35.3348486\t,136.6224694)\n",
    "p6=(35.3321981\t,136.6216822)\n",
    "p7=(35.3359814\t,136.6204517)\n",
    "p8=(35.3349314\t,136.62056)\n",
    "p9=(35.3342508\t,136.6198517)\n",
    "p10=(35.2860244\t,136.6020822)\n",
    "p11=(35.3367358\t,136.6209708)\n",
    "p12=(35.3380081\t,136.6203181)\n",
    "p13=(35.3376608\t,136.6203097)\n",
    "p14=(35.3370358\t,136.6191708)\n",
    "p15=(35.3376081\t,136.6198708)\n",
    "p16=(35.3368053\t,136.6178819)\n",
    "p17=(35.3388747\t,136.6187208)\n",
    "p18=(35.3387136\t,136.6212625)\n",
    "p19=(35.3393247\t,136.6205375)\n",
    "p20=(35.3417469\t,136.6214153)\n",
    "p21=(35.3416997\t,136.6216042)\n",
    "p22=(35.3416997\t,136.6216042)\n",
    "p23=(35.3427919\t,136.6223969)\n",
    "p24=(35.3372892\t,136.6233469)\n",
    "p25=(35.3385442\t,136.6220069)\n",
    "p26=(35.3370025\t,136.6216903)\n",
    "p27=(35.3364592\t,136.6216544)\n",
    "p28=(35.3319731\t,136.6210267)\n",
    "p29=(35.3319869\t,136.6217044)\n",
    "p30=(35.3355731\t,136.6207211)\n",
    "p31=(35.3352397\t,136.6127683)\n",
    "p32=(35.3305536\t,136.6197322)\n",
    "\n",
    "from geopy.distance import geodesic\n",
    "dist2 = geodesic(p10, p31, p16, p14, p15, p17, p12, p13, p19, p18, p11,  p7,  p9,  p8, p30, p27, p26, p25,\n",
    "         p20, p21, p22, p23, p24,  p5,  p4,  p0,  p1,  p2, p29,  p6, p28,  p3, p32).km\n",
    "print(dist2)"
   ]
  },
  {
   "cell_type": "markdown",
   "metadata": {
    "id": "4tjhvIAgVAO-"
   },
   "source": [
    "コース１"
   ]
  },
  {
   "cell_type": "code",
   "execution_count": null,
   "metadata": {
    "id": "DOamQCRf4mv7"
   },
   "outputs": [],
   "source": [
    "!python3 eval.py /content/drive/MyDrive/learning-tsp/data/tsp/1-seinotsp_val_concorde.txt --model \"/content/drive/MyDrive/learning-tsp/outputs/tsp_20-50/EPSandJKNv3-epcho1000size12800_20220301T054329\" --decode_strategies greedy --batch_size 16 --width 0"
   ]
  },
  {
   "cell_type": "code",
   "execution_count": null,
   "metadata": {
    "id": "9LqvoVAUp7GM"
   },
   "outputs": [],
   "source": [
    "p0=(35.3574861,\t136.6079692)\n",
    "p1=(35.3570111,\t136.6000275)\n",
    "p2=(35.3485197,\t136.5990855)\n",
    "p3=(35.3434492,\t136.6074944)\n",
    "p4=(35.3348425,\t136.6108656)\n",
    "p5=(35.3310369,\t136.6114156)\n",
    "p6=(35.3284842,\t136.6118822)\n",
    "p7=(35.3263911,\t136.6134797)\n",
    "p8=(35.3174311,\t136.6008261)\n",
    "p9=(35.3238461,\t136.6049397)\n",
    "p10=(35.3261601,\t136.6077207)\n",
    "p11=(35.329175,\t136.5939883)\n",
    "p12=(35.3319869,\t136.6217044)\n",
    "p13=(35.3340802\t,136.632108)\n",
    "p14=(35.3205167\t,136.6370683)\n",
    "\n",
    "from geopy.distance import geodesic\n",
    "dist2 = geodesic(p10,  p9, p12,  p3,  p2,  p1,  p4,  p5,  p6,  p7,  p8, p13,  p0, p14, p15, p11).km\n",
    "print(dist2)"
   ]
  },
  {
   "cell_type": "code",
   "execution_count": null,
   "metadata": {
    "id": "gq6kfPDwp7Cq"
   },
   "outputs": [],
   "source": []
  },
  {
   "cell_type": "code",
   "execution_count": null,
   "metadata": {
    "id": "WYvCllzV2KpH"
   },
   "outputs": [],
   "source": []
  },
  {
   "cell_type": "code",
   "execution_count": null,
   "metadata": {
    "id": "I0m5FY1hvxAS"
   },
   "outputs": [],
   "source": []
  },
  {
   "cell_type": "code",
   "execution_count": null,
   "metadata": {
    "id": "WYRoxJzkvw9b"
   },
   "outputs": [],
   "source": []
  },
  {
   "cell_type": "code",
   "execution_count": null,
   "metadata": {
    "id": "lQbXe6AH7qqm"
   },
   "outputs": [],
   "source": [
    "import os\n",
    "import json\n",
    "import argparse\n",
    "import pprint as pp\n",
    "import numpy as np\n",
    "import pandas as pd\n",
    "import pickle\n",
    "from tqdm import tqdm\n",
    "from datetime import timedelta\n",
    "\n",
    "import networkx as nx\n",
    "from scipy.spatial.distance import pdist, squareform\n",
    "import torch\n",
    "from torch.utils.data import DataLoader\n",
    "\n",
    "import matplotlib\n",
    "import matplotlib.pyplot as plt\n",
    "import seaborn as sns\n",
    "\n",
    "from problems.tsp.problem_tsp import TSP\n",
    "from utils import load_model, move_to\n",
    "from train import set_decode_type\n",
    "\n",
    "import sys\n",
    "import math\n",
    "import random\n",
    "import itertools\n",
    "from collections import OrderedDict\n",
    "#from gurobipy import *\n",
    "\n",
    "import warnings\n",
    "warnings.filterwarnings(\"ignore\", category=UserWarning)"
   ]
  },
  {
   "cell_type": "code",
   "execution_count": null,
   "metadata": {
    "id": "Ayws9rlT7tqT"
   },
   "outputs": [],
   "source": [
    "os.environ[\"CUDA_DEVICE_ORDER\"] = \"PCI_BUS_ID\"\n",
    "os.environ[\"CUDA_VISIBLE_DEVICES\"] = str(0)"
   ]
  },
  {
   "cell_type": "code",
   "execution_count": null,
   "metadata": {
    "id": "wk6Cpcwe7uiq"
   },
   "outputs": [],
   "source": [
    "class opts:\n",
    "    #dataset_path = \"/content/drive/MyDrive/learning-tsp/data/tsp/tsp20-50_concorde.txt\"\n",
    "    #dataset_path = \"/content/drive/MyDrive/learning-tsp/data/tsp/tsp20_train_concorde.txt\"\n",
    "    dataset_path = \"/content/drive/MyDrive/learning-tsp/data/tsp/8-seinotsp_val_concorde.txt\"\n",
    "    #dataset_path = \"/content/drive/MyDrive/learning-tsp/data/tsp/tsp10000_test_concorde.txt\"\n",
    "\n",
    "    batch_size = 16\n",
    "    accumulation_steps = 1000\n",
    "    num_samples = 256000# 1280 samples per TSP size \n",
    "    #num_samples = 1280 # 1280 samples per TSP size\n",
    "\n",
    "    neighbors = 0.2\n",
    "    knn_strat = 'percentage'\n",
    "    \n",
    "    model = \"/content/drive/MyDrive/learning-tsp/outputs/tsp_20-50/TestLSTM3_20220403T042100\"\n",
    "    use_cuda = torch.cuda.is_available()\n",
    "    device = torch.device(\"cuda:0\" if use_cuda else \"cpu\")"
   ]
  },
  {
   "cell_type": "code",
   "execution_count": null,
   "metadata": {
    "id": "JQJHuNmmv4_j"
   },
   "outputs": [],
   "source": [
    "model, model_args = load_model(opts.model, extra_logging=True)\n",
    "model.to(opts.device)\n",
    "set_decode_type(model, \"greedy\")\n",
    "model.eval()"
   ]
  },
  {
   "cell_type": "code",
   "execution_count": null,
   "metadata": {
    "id": "6sDUK6JOwHXQ"
   },
   "outputs": [],
   "source": [
    "dataset = TSP.make_dataset(\n",
    "    filename=opts.dataset_path, batch_size=opts.batch_size, num_samples=opts.num_samples, \n",
    "    neighbors=opts.neighbors, knn_strat=opts.knn_strat, supervised=True\n",
    ")\n",
    "dataloader = DataLoader(dataset, batch_size=opts.batch_size, shuffle=False, num_workers=0)"
   ]
  },
  {
   "cell_type": "code",
   "execution_count": null,
   "metadata": {
    "id": "chc3eLrjwSRt"
   },
   "outputs": [],
   "source": []
  },
  {
   "cell_type": "code",
   "execution_count": null,
   "metadata": {
    "id": "KbunDlL3gBHj"
   },
   "outputs": [],
   "source": [
    "def plot_tsp(p, x_coord, tour, title=\"default\"):\n",
    "    \"\"\"\n",
    "    Helper function to plot TSP tours.\n",
    "    \n",
    "    Args:\n",
    "        p: Matplotlib figure/subplot\n",
    "        x_coord: Coordinates of nodes\n",
    "        tour: Predicted tour\n",
    "        title: Title of figure/subplot\n",
    "    \n",
    "    Returns:\n",
    "        p: Updated figure/subplot\n",
    "    \"\"\"\n",
    "    W_val = squareform(pdist(x_coord, metric='euclidean'))\n",
    "    G = nx.from_numpy_matrix(W_val)\n",
    "    \n",
    "    pos = dict(zip(range(len(x_coord)), x_coord.tolist()))\n",
    "    \n",
    "    tour_pairs = []\n",
    "    for idx in range(len(tour)-1):\n",
    "        tour_pairs.append((tour[idx], tour[idx+1]))\n",
    "    tour_pairs.append((tour[idx+1], tour[0]))\n",
    "    \n",
    "    nx.draw_networkx_nodes(G, pos, node_color='b', node_size=30)\n",
    "    nx.draw_networkx_edges(G, pos, edgelist=tour_pairs, edge_color='black', alpha=1, width=1)\n",
    "    p.set_title(title)\n",
    "    return p\n",
    "\n",
    "\n",
    "def plot_tsp_heatmap(p, x_coord, W_pred, threshold=0.001, title=\"default\"):\n",
    "    \"\"\"\n",
    "    Helper function to plot predicted TSP tours with edge strength denoting confidence of prediction.\n",
    "    \n",
    "    Args:\n",
    "        p: Matplotlib figure/subplot\n",
    "        x_coord: Coordinates of nodes\n",
    "        W_pred: Edge predictions matrix\n",
    "        threshold: Threshold above which edge predicion probabilities are plotted\n",
    "        title: Title of figure/subplot\n",
    "    \n",
    "    Returns:\n",
    "        p: Updated figure/subplot\n",
    "    \"\"\"\n",
    "    W_val = squareform(pdist(x_coord, metric='euclidean'))\n",
    "    G = nx.from_numpy_matrix(W_val)\n",
    "    \n",
    "    pos = dict(zip(range(len(x_coord)), x_coord.tolist()))    \n",
    "    \n",
    "    edge_pairs = []\n",
    "    edge_color = []\n",
    "    for r in range(len(W_pred)):\n",
    "        for c in range(len(W_pred)):\n",
    "            if W_pred[r][c] >= threshold:\n",
    "                edge_pairs.append((r, c))\n",
    "                edge_color.append(W_pred[r][c])\n",
    "    \n",
    "    nx.draw_networkx_nodes(G, pos, node_color='b', node_size=30)  #default 30\n",
    "    nx.draw_networkx_edges(G, pos, edgelist=edge_pairs, edge_color=edge_color, edge_cmap=plt.cm.Reds, width=1)\n",
    "    p.set_title(title)\n",
    "    return p\n",
    "\n",
    "\n",
    "def plot_tsp_rcs(p, x_coord, rcs, threshold=0.001, title=\"default\"):\n",
    "    \"\"\"\n",
    "    Helper function to plot predicted TSP tours with edge strength denoting confidence of prediction.\n",
    "    \n",
    "    Args:\n",
    "        p: Matplotlib figure/subplot\n",
    "        x_coord: Coordinates of nodes\n",
    "        rcs: Reduce costs of edges\n",
    "        threshold: Threshold below which edge reduce costs are plotted\n",
    "        title: Title of figure/subplot\n",
    "    \n",
    "    Returns:\n",
    "        p: Updated figure/subplot\n",
    "    \"\"\"\n",
    "    W_val = squareform(pdist(x_coord, metric='euclidean'))\n",
    "    print(W_val)\n",
    "    G = nx.from_numpy_matrix(W_val)\n",
    "    \n",
    "    pos = dict(zip(range(len(x_coord)), x_coord.tolist()))    \n",
    "    \n",
    "    edge_pairs = []\n",
    "    edge_color = []\n",
    "    for r in range(len(rcs)):\n",
    "        for c in range(len(rcs)):\n",
    "            if rcs[r][c] <= threshold:\n",
    "                edge_pairs.append((r, c))\n",
    "                edge_color.append(1 - rcs[r][c])\n",
    "    \n",
    "    nx.draw_networkx_nodes(G, pos, node_color='b', node_size=30) #default 30\n",
    "    nx.draw_networkx_edges(G, pos, edgelist=edge_pairs, edge_color=edge_color, edge_cmap=plt.cm.Reds, width=1)\n",
    "    p.set_title(title)\n",
    "    return p"
   ]
  },
  {
   "cell_type": "code",
   "execution_count": null,
   "metadata": {
    "id": "IeT7nihUgHYR"
   },
   "outputs": [],
   "source": [
    "def subtourelim(model, where):\n",
    "    # Callback - use lazy constraints to eliminate sub-tours\n",
    "    \n",
    "    if where == GRB.Callback.MIPSOL:\n",
    "        # make a list of edges selected in the solution\n",
    "        vals = model.cbGetSolution(model._vars)\n",
    "        selected = tuplelist((i,j) for i,j in model._vars.keys() if vals[i,j] > 0.3)\n",
    "        # find the shortest cycle in the selected edge list\n",
    "        tour = subtour(selected)\n",
    "        if len(tour) < n:\n",
    "            # add subtour elimination constraint for every pair of cities in tour\n",
    "            model.cbLazy(quicksum(model._vars[i,j]\n",
    "                                  for i,j in itertools.combinations(tour, 2))\n",
    "                         <= len(tour)-1)\n",
    "\n",
    "            \n",
    "def subtour(edges):\n",
    "    # Given a tuplelist of edges, find the shortest subtour\n",
    "    \n",
    "    unvisited = list(range(n))\n",
    "    cycle = range(n+1) # initial length has 1 more city\n",
    "    while unvisited: # true if list is non-empty\n",
    "        thiscycle = []\n",
    "        neighbors = unvisited\n",
    "        while neighbors:\n",
    "            current = neighbors[0]\n",
    "            thiscycle.append(current)\n",
    "            unvisited.remove(current)\n",
    "            neighbors = [j for i,j in edges.select(current,'*') if j in unvisited]\n",
    "        if len(cycle) > len(thiscycle):\n",
    "            cycle = thiscycle\n",
    "    return cycle\n",
    "\n",
    "\n",
    "def get_reduce_costs(points):\n",
    "    n = len(points)\n",
    "    \n",
    "    dist = {\n",
    "        (i,j) : math.sqrt(sum((points[i][k] - points[j][k])**2 for k in range(2)))\n",
    "            for i in range(n) for j in range(i)\n",
    "    }\n",
    "\n",
    "    m = Model()\n",
    "    m.setParam('OutputFlag', 0)\n",
    "\n",
    "    # Create variables\n",
    "    vars = m.addVars(dist.keys(), obj=dist, vtype=GRB.CONTINUOUS, name='e')\n",
    "    for i,j in vars.keys():\n",
    "        vars[j,i] = vars[i,j] # edge in opposite direction\n",
    "\n",
    "    # Add degree-2 constraint\n",
    "    m.addConstrs(vars.sum(i,'*') == 2 for i in range(n))\n",
    "\n",
    "    # Optimize model\n",
    "    m._vars = vars\n",
    "    m.Params.lazyConstraints = 1\n",
    "    m.optimize(subtourelim)\n",
    "\n",
    "    reduce_costs = np.zeros((len(points), len(points)))\n",
    "    \n",
    "    for i, j in dist.keys():\n",
    "        reduce_costs[i][j] = vars[i,j].RC\n",
    "        reduce_costs[j][i] = vars[i,j].RC\n",
    "    \n",
    "    return reduce_costs"
   ]
  },
  {
   "cell_type": "code",
   "execution_count": null,
   "metadata": {
    "id": "L3gT9PaR8jEF"
   },
   "outputs": [],
   "source": [
    "def log_p_to_heatmap(log_p, pi):\n",
    "    heatmap = np.zeros(log_p.shape)\n",
    "    heatmap[pi[-1]] = log_p[0]\n",
    "    for cur_node, next_pred in zip(pi[:-1], log_p[1:]):\n",
    "        heatmap[cur_node] = next_pred\n",
    "    return heatmap\n",
    "\n",
    "def normalize_dists(dists):\n",
    "    # return dists / dists.max(1, keepdims=True)\n",
    "    return dists / dists.max()"
   ]
  },
  {
   "cell_type": "code",
   "execution_count": null,
   "metadata": {
    "id": "ULMCKC7dgN_T"
   },
   "outputs": [],
   "source": [
    "plot_idx = 1\n",
    "prev_size = 0\n",
    "with torch.no_grad():\n",
    "\n",
    "    for bat_idx, bat in enumerate(dataloader):\n",
    "        \n",
    "        if bat['nodes'].shape[1] > prev_size:\n",
    "            \n",
    "            print(\"--------------------------------------------------------------------------------------------------------------------------------------------\")\n",
    "            print(f\"\\nTSP{bat['nodes'].shape[1]}\\n\")\n",
    "            \n",
    "            x = move_to(bat['nodes'], opts.device)\n",
    "            graph = move_to(bat['graph'], opts.device)\n",
    "            tour_nodes = move_to(bat['tour_nodes'], opts.device)\n",
    "\n",
    "            cost, ll, pi = model(x, graph, return_pi=True)\n",
    "            print(cost.mean())\n",
    "            gt_cost, _ = TSP.get_costs(x, tour_nodes)\n",
    "            \n",
    "            f = plt.figure(0, figsize=(50, 20))\n",
    "            \n",
    "            p1 = f.add_subplot(141)\n",
    "            plot_tsp(\n",
    "                p1, \n",
    "                x[plot_idx].cpu().numpy(), \n",
    "                tour_nodes[plot_idx].cpu().numpy(), \n",
    "                title=f\"Concorde: {gt_cost[plot_idx].cpu().numpy():.3f}\"\n",
    "            )\n",
    "            \n",
    "            #p2 = f.add_subplot(142)\n",
    "            #plot_tsp_rcs(\n",
    "            #    p2, \n",
    "            #    x[plot_idx].cpu().numpy(), \n",
    "            #    get_reduce_costs(x[plot_idx].cpu().numpy()), \n",
    "            #    threshold=0.05,\n",
    "            #    title=\"1 - (Reduce Costs)\"\n",
    "            #)\n",
    "            \n",
    "            p3 = f.add_subplot(142)\n",
    "            plot_tsp_heatmap(\n",
    "                p3, \n",
    "                x[plot_idx].cpu().numpy(), \n",
    "                log_p_to_heatmap(\n",
    "                    np.exp(model.log_p_batch[plot_idx].cpu().numpy()), \n",
    "                    pi[plot_idx].cpu().numpy()\n",
    "                ), \n",
    "                threshold=0.1,\n",
    "                title=\"Prediction Heatmap\"\n",
    "            )\n",
    "            \n",
    "            p4 = f.add_subplot(143)\n",
    "            plot_tsp(\n",
    "                p4, \n",
    "                x[plot_idx].cpu().numpy(), \n",
    "                pi[plot_idx].cpu().numpy(), \n",
    "                title=f\"Greedy Solution: {cost[plot_idx].cpu().numpy():.3f}\"\n",
    "            )\n",
    "            \n",
    "            plt.show()\n",
    "            \n",
    "            ####\n",
    "\n",
    "            f = plt.figure(0, figsize=(15, 5))\n",
    "            \n",
    "            p1 = f.add_subplot(131)\n",
    "            sns.heatmap(\n",
    "                normalize_dists(\n",
    "                    squareform(pdist(x[plot_idx].cpu().numpy(), metric='euclidean'))\n",
    "                ),\n",
    "                cmap=\"YlGnBu\",\n",
    "                ax=p1,\n",
    "                square=True\n",
    "            ).set_title(\"Euclidean distance (norm by max)\")\n",
    "            \n",
    "            #p2 = f.add_subplot(132)\n",
    "            #sns.heatmap(\n",
    "            #    get_reduce_costs(x[plot_idx].cpu().numpy()),\n",
    "            #    cmap=\"YlGnBu\",\n",
    "            #    ax=p2,\n",
    "            #    square=True\n",
    "            #).set_title(\"Reduce Costs\")\n",
    "            \n",
    "            p3 = f.add_subplot(132)\n",
    "            sns.heatmap(\n",
    "                1 - log_p_to_heatmap(np.exp(model.log_p_batch[plot_idx].cpu().numpy()), pi[plot_idx].cpu().numpy()),\n",
    "                cmap=\"YlGnBu\",\n",
    "                ax=p3,\n",
    "                square=True\n",
    "            ).set_title(\"1 - (Model Predictions)\")\n",
    "            \n",
    "            plt.show()\n",
    "            \n",
    "        prev_size = bat['nodes'].shape[1]"
   ]
  },
  {
   "cell_type": "code",
   "execution_count": null,
   "metadata": {
    "id": "YmqZfnucwhbh"
   },
   "outputs": [],
   "source": []
  }
 ],
 "metadata": {
  "accelerator": "GPU",
  "colab": {
   "authorship_tag": "ABX9TyOI4KM77wXaZlCfTyXPuBlp",
   "collapsed_sections": [],
   "machine_shape": "hm",
   "name": "Untitled0.ipynb",
   "version": ""
  },
  "kernelspec": {
   "display_name": "Python 3 (ipykernel)",
   "language": "python",
   "name": "python3"
  },
  "language_info": {
   "codemirror_mode": {
    "name": "ipython",
    "version": 3
   },
   "file_extension": ".py",
   "mimetype": "text/x-python",
   "name": "python",
   "nbconvert_exporter": "python",
   "pygments_lexer": "ipython3",
   "version": "3.9.12"
  }
 },
 "nbformat": 4,
 "nbformat_minor": 1
}
